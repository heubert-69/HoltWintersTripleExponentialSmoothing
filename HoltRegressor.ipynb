{
 "cells": [
  {
   "cell_type": "code",
   "execution_count": 91,
   "id": "3442e340",
   "metadata": {},
   "outputs": [],
   "source": [
    "import pandas as pd\n",
    "import numpy as np\n",
    "from sklearn.metrics import(\n",
    "    mean_squared_error,\n",
    "    mean_absolute_error,\n",
    "    r2_score\n",
    ")\n",
    "from timeit import default_timer as timer\n",
    "from sklearn.model_selection import ParameterGrid\n",
    "from sklearn.base import BaseEstimator, RegressorMixin\n",
    "from HoltRegressor import HoltWintersTripleExponentialSmoothing\n",
    "from statsmodels.tsa.holtwinters import ExponentialSmoothing\n",
    "from sklearn.model_selection import GridSearchCV\n",
    "from sklearn.utils.validation import check_array, check_is_fitted\n",
    "\n",
    "#For Model Export\n",
    "import joblib"
   ]
  },
  {
   "cell_type": "code",
   "execution_count": 76,
   "id": "a38fcd30",
   "metadata": {},
   "outputs": [
    {
     "data": {
      "text/html": [
       "<div>\n",
       "<style scoped>\n",
       "    .dataframe tbody tr th:only-of-type {\n",
       "        vertical-align: middle;\n",
       "    }\n",
       "\n",
       "    .dataframe tbody tr th {\n",
       "        vertical-align: top;\n",
       "    }\n",
       "\n",
       "    .dataframe thead th {\n",
       "        text-align: right;\n",
       "    }\n",
       "</style>\n",
       "<table border=\"1\" class=\"dataframe\">\n",
       "  <thead>\n",
       "    <tr style=\"text-align: right;\">\n",
       "      <th></th>\n",
       "      <th>Date</th>\n",
       "      <th>Open</th>\n",
       "      <th>High</th>\n",
       "      <th>Low</th>\n",
       "      <th>Close</th>\n",
       "      <th>Adj Close</th>\n",
       "      <th>Volume</th>\n",
       "    </tr>\n",
       "  </thead>\n",
       "  <tbody>\n",
       "    <tr>\n",
       "      <th>0</th>\n",
       "      <td>2014-12-08</td>\n",
       "      <td>76.180000</td>\n",
       "      <td>77.250000</td>\n",
       "      <td>75.400002</td>\n",
       "      <td>76.519997</td>\n",
       "      <td>76.519997</td>\n",
       "      <td>25733900</td>\n",
       "    </tr>\n",
       "    <tr>\n",
       "      <th>1</th>\n",
       "      <td>2014-12-09</td>\n",
       "      <td>75.199997</td>\n",
       "      <td>76.930000</td>\n",
       "      <td>74.779999</td>\n",
       "      <td>76.839996</td>\n",
       "      <td>76.839996</td>\n",
       "      <td>25358600</td>\n",
       "    </tr>\n",
       "    <tr>\n",
       "      <th>2</th>\n",
       "      <td>2014-12-10</td>\n",
       "      <td>76.650002</td>\n",
       "      <td>77.550003</td>\n",
       "      <td>76.070000</td>\n",
       "      <td>76.180000</td>\n",
       "      <td>76.180000</td>\n",
       "      <td>32210500</td>\n",
       "    </tr>\n",
       "    <tr>\n",
       "      <th>3</th>\n",
       "      <td>2014-12-11</td>\n",
       "      <td>76.519997</td>\n",
       "      <td>78.519997</td>\n",
       "      <td>76.480003</td>\n",
       "      <td>77.730003</td>\n",
       "      <td>77.730003</td>\n",
       "      <td>33462100</td>\n",
       "    </tr>\n",
       "    <tr>\n",
       "      <th>4</th>\n",
       "      <td>2014-12-12</td>\n",
       "      <td>77.160004</td>\n",
       "      <td>78.879997</td>\n",
       "      <td>77.019997</td>\n",
       "      <td>77.830002</td>\n",
       "      <td>77.830002</td>\n",
       "      <td>28091600</td>\n",
       "    </tr>\n",
       "    <tr>\n",
       "      <th>...</th>\n",
       "      <td>...</td>\n",
       "      <td>...</td>\n",
       "      <td>...</td>\n",
       "      <td>...</td>\n",
       "      <td>...</td>\n",
       "      <td>...</td>\n",
       "      <td>...</td>\n",
       "    </tr>\n",
       "    <tr>\n",
       "      <th>1254</th>\n",
       "      <td>2019-12-02</td>\n",
       "      <td>202.130005</td>\n",
       "      <td>202.179993</td>\n",
       "      <td>198.050003</td>\n",
       "      <td>199.699997</td>\n",
       "      <td>199.699997</td>\n",
       "      <td>11503400</td>\n",
       "    </tr>\n",
       "    <tr>\n",
       "      <th>1255</th>\n",
       "      <td>2019-12-03</td>\n",
       "      <td>197.600006</td>\n",
       "      <td>198.929993</td>\n",
       "      <td>195.080002</td>\n",
       "      <td>198.820007</td>\n",
       "      <td>198.820007</td>\n",
       "      <td>11595300</td>\n",
       "    </tr>\n",
       "    <tr>\n",
       "      <th>1256</th>\n",
       "      <td>2019-12-04</td>\n",
       "      <td>200.000000</td>\n",
       "      <td>200.029999</td>\n",
       "      <td>198.050003</td>\n",
       "      <td>198.710007</td>\n",
       "      <td>198.710007</td>\n",
       "      <td>8456300</td>\n",
       "    </tr>\n",
       "    <tr>\n",
       "      <th>1257</th>\n",
       "      <td>2019-12-05</td>\n",
       "      <td>199.860001</td>\n",
       "      <td>201.289993</td>\n",
       "      <td>198.210007</td>\n",
       "      <td>199.360001</td>\n",
       "      <td>199.360001</td>\n",
       "      <td>9740400</td>\n",
       "    </tr>\n",
       "    <tr>\n",
       "      <th>1258</th>\n",
       "      <td>2019-12-06</td>\n",
       "      <td>200.500000</td>\n",
       "      <td>201.566895</td>\n",
       "      <td>200.070007</td>\n",
       "      <td>201.050003</td>\n",
       "      <td>201.050003</td>\n",
       "      <td>12279525</td>\n",
       "    </tr>\n",
       "  </tbody>\n",
       "</table>\n",
       "<p>1259 rows × 7 columns</p>\n",
       "</div>"
      ],
      "text/plain": [
       "            Date        Open        High         Low       Close   Adj Close  \\\n",
       "0     2014-12-08   76.180000   77.250000   75.400002   76.519997   76.519997   \n",
       "1     2014-12-09   75.199997   76.930000   74.779999   76.839996   76.839996   \n",
       "2     2014-12-10   76.650002   77.550003   76.070000   76.180000   76.180000   \n",
       "3     2014-12-11   76.519997   78.519997   76.480003   77.730003   77.730003   \n",
       "4     2014-12-12   77.160004   78.879997   77.019997   77.830002   77.830002   \n",
       "...          ...         ...         ...         ...         ...         ...   \n",
       "1254  2019-12-02  202.130005  202.179993  198.050003  199.699997  199.699997   \n",
       "1255  2019-12-03  197.600006  198.929993  195.080002  198.820007  198.820007   \n",
       "1256  2019-12-04  200.000000  200.029999  198.050003  198.710007  198.710007   \n",
       "1257  2019-12-05  199.860001  201.289993  198.210007  199.360001  199.360001   \n",
       "1258  2019-12-06  200.500000  201.566895  200.070007  201.050003  201.050003   \n",
       "\n",
       "        Volume  \n",
       "0     25733900  \n",
       "1     25358600  \n",
       "2     32210500  \n",
       "3     33462100  \n",
       "4     28091600  \n",
       "...        ...  \n",
       "1254  11503400  \n",
       "1255  11595300  \n",
       "1256   8456300  \n",
       "1257   9740400  \n",
       "1258  12279525  \n",
       "\n",
       "[1259 rows x 7 columns]"
      ]
     },
     "execution_count": 76,
     "metadata": {},
     "output_type": "execute_result"
    }
   ],
   "source": [
    "df = pd.read_csv(\"FB.csv\")\n",
    "df"
   ]
  },
  {
   "cell_type": "markdown",
   "id": "f3c1ec8c",
   "metadata": {},
   "source": [
    "## Feature Engineering"
   ]
  },
  {
   "cell_type": "code",
   "execution_count": 77,
   "id": "e85aaad1",
   "metadata": {},
   "outputs": [],
   "source": [
    "df[\"Date\"] = pd.to_datetime(df[\"Date\"])\n",
    "df[\"MA_5\"] = df[\"Close\"].rolling(5).mean()\n",
    "df[\"MA_50\"] = df[\"Close\"].rolling(50).mean()\n",
    "df[\"MA_Spread\"] = df[\"MA_5\"] - df[\"MA_50\"]\n",
    "df[\"MA_Spread_Z\"] = (df['MA_Spread'] - df['MA_Spread'].rolling(20).mean()) / df['MA_Spread'].rolling(20).std()\n",
    "\n",
    "df['MA_20'] = df['Close'].rolling(20).mean()\n",
    "df['MA_Diff'] = df['Close'] - df['MA_20']\n",
    "df['MA_Diff_Pct'] = df['MA_Diff'] / df['MA_20']\n",
    "df['Close_detrended'] = df['Close'] - df['Close'].rolling(20).mean()\n",
    "df['Norm_Close'] = df['Close_detrended'] / df['Close'].rolling(20).std()\n",
    "\n",
    "\n",
    "df[\"Return\"] = df[\"Close\"].pct_change()\n",
    "df[\"Z_score\"] = (df[\"Close\"] - df[\"Close\"].rolling(20).mean()) / df[\"Close\"].rolling(20).std()\n",
    "df[\"mean_reversion_signal\"] = -df[\"Z_score\"]  # negative zscore = buy signal\n",
    "df[\"rolling_mean\"] = df[\"Close\"].rolling(20).mean()\n",
    "df[\"rolling_std\"] = df[\"Close\"].rolling(20).std()"
   ]
  },
  {
   "cell_type": "markdown",
   "id": "3edfef75",
   "metadata": {},
   "source": [
    "## Model Metrics"
   ]
  },
  {
   "cell_type": "code",
   "execution_count": 16,
   "id": "c606f74d",
   "metadata": {},
   "outputs": [],
   "source": [
    "def modelEvaluation(y_true, y_pred):\n",
    "    def mean_absolute_percentage_error(y_true, y_pred):\n",
    "        y_true, y_pred = np.array(y_true), np.array(y_pred)\n",
    "        return np.mean(np.abs((y_true - y_pred) / y_true)) * 100\n",
    "    print(f\"Model Evaluation Results: \\nMean Squared Error: {round(mean_squared_error(y_true, y_pred), 2)}\\nMean Absolute Error: {round(mean_absolute_error(y_true, y_pred), 2)}\\nR2 Score: {round(r2_score(y_true, y_pred), 2)}\")"
   ]
  },
  {
   "cell_type": "markdown",
   "id": "c5867134",
   "metadata": {},
   "source": [
    "## Parameters To be used for Grid Search"
   ]
  },
  {
   "cell_type": "code",
   "execution_count": 85,
   "id": "3892c63f",
   "metadata": {},
   "outputs": [],
   "source": [
    "param_grid = {\n",
    "    \"trend\": [\"add\", \"mul\", None],                 # None for no trend (good baseline)\n",
    "    \"seasonal\": [\"add\", \"mul\", None],              # None for deseasonalized data\n",
    "    \"seasonal_periods\": [3, 5, 6, 7, 10, 12],      # Covers weekly & monthly cycles\n",
    "    \"damped\": [True, False],                       # Dampening stabilizes trends\n",
    "}"
   ]
  },
  {
   "cell_type": "code",
   "execution_count": 86,
   "id": "2da10ef7",
   "metadata": {},
   "outputs": [],
   "source": [
    "param = list(ParameterGrid(param_grid))"
   ]
  },
  {
   "cell_type": "markdown",
   "id": "5e92644d",
   "metadata": {},
   "source": [
    "## Training And Testing"
   ]
  },
  {
   "cell_type": "code",
   "execution_count": 81,
   "id": "7e8e6dd3",
   "metadata": {},
   "outputs": [
    {
     "ename": "KeyError",
     "evalue": "\"None of ['Date'] are in the columns\"",
     "output_type": "error",
     "traceback": [
      "\u001b[0;31m---------------------------------------------------------------------------\u001b[0m",
      "\u001b[0;31mKeyError\u001b[0m                                  Traceback (most recent call last)",
      "\u001b[0;32m<ipython-input-81-54b2856b6132>\u001b[0m in \u001b[0;36m<module>\u001b[0;34m\u001b[0m\n\u001b[1;32m      1\u001b[0m \u001b[0;31m# Assume df has 'Date' and 'Close'\u001b[0m\u001b[0;34m\u001b[0m\u001b[0;34m\u001b[0m\u001b[0;34m\u001b[0m\u001b[0m\n\u001b[1;32m      2\u001b[0m \u001b[0mdf\u001b[0m \u001b[0;34m=\u001b[0m \u001b[0mdf\u001b[0m\u001b[0;34m.\u001b[0m\u001b[0msort_values\u001b[0m\u001b[0;34m(\u001b[0m\u001b[0;34m'Date'\u001b[0m\u001b[0;34m)\u001b[0m\u001b[0;34m\u001b[0m\u001b[0;34m\u001b[0m\u001b[0m\n\u001b[0;32m----> 3\u001b[0;31m \u001b[0mdf\u001b[0m \u001b[0;34m=\u001b[0m \u001b[0mdf\u001b[0m\u001b[0;34m.\u001b[0m\u001b[0mset_index\u001b[0m\u001b[0;34m(\u001b[0m\u001b[0;34m'Date'\u001b[0m\u001b[0;34m)\u001b[0m\u001b[0;34m\u001b[0m\u001b[0;34m\u001b[0m\u001b[0m\n\u001b[0m\u001b[1;32m      4\u001b[0m \u001b[0my\u001b[0m \u001b[0;34m=\u001b[0m \u001b[0mdf\u001b[0m\u001b[0;34m[\u001b[0m\u001b[0;34m'Close'\u001b[0m\u001b[0;34m]\u001b[0m\u001b[0;34m\u001b[0m\u001b[0;34m\u001b[0m\u001b[0m\n\u001b[1;32m      5\u001b[0m \u001b[0;34m\u001b[0m\u001b[0m\n",
      "\u001b[0;32m~/.local/lib/python3.6/site-packages/pandas/core/frame.py\u001b[0m in \u001b[0;36mset_index\u001b[0;34m(self, keys, drop, append, inplace, verify_integrity)\u001b[0m\n\u001b[1;32m   4553\u001b[0m \u001b[0;34m\u001b[0m\u001b[0m\n\u001b[1;32m   4554\u001b[0m         \u001b[0;32mif\u001b[0m \u001b[0mmissing\u001b[0m\u001b[0;34m:\u001b[0m\u001b[0;34m\u001b[0m\u001b[0;34m\u001b[0m\u001b[0m\n\u001b[0;32m-> 4555\u001b[0;31m             \u001b[0;32mraise\u001b[0m \u001b[0mKeyError\u001b[0m\u001b[0;34m(\u001b[0m\u001b[0;34mf\"None of {missing} are in the columns\"\u001b[0m\u001b[0;34m)\u001b[0m\u001b[0;34m\u001b[0m\u001b[0;34m\u001b[0m\u001b[0m\n\u001b[0m\u001b[1;32m   4556\u001b[0m \u001b[0;34m\u001b[0m\u001b[0m\n\u001b[1;32m   4557\u001b[0m         \u001b[0;32mif\u001b[0m \u001b[0minplace\u001b[0m\u001b[0;34m:\u001b[0m\u001b[0;34m\u001b[0m\u001b[0;34m\u001b[0m\u001b[0m\n",
      "\u001b[0;31mKeyError\u001b[0m: \"None of ['Date'] are in the columns\""
     ]
    }
   ],
   "source": [
    "# Assume df has 'Date' and 'Close'\n",
    "df = df.sort_values('Date')\n",
    "df = df.set_index('Date')\n",
    "y = df['Close']\n",
    "\n",
    "# Split (e.g. 80% train, 20% test)\n",
    "split = int(len(df) * 0.8)\n",
    "train, test = df.iloc[:split], df.iloc[split:]\n",
    "\n",
    "y_train, y_test = train[\"Close\"], test[\"Close\"]"
   ]
  },
  {
   "cell_type": "markdown",
   "id": "dff45b73",
   "metadata": {},
   "source": [
    "## Model Testing"
   ]
  },
  {
   "cell_type": "code",
   "execution_count": 87,
   "id": "2deef665",
   "metadata": {},
   "outputs": [
    {
     "name": "stderr",
     "output_type": "stream",
     "text": [
      "/home/creiann/.local/lib/python3.6/site-packages/sklearn/model_selection/_search.py:925: UserWarning: One or more of the test scores are non-finite: [-6.62294040e+05             nan             nan -6.60216294e+05\n",
      "             nan             nan -6.59393530e+05             nan\n",
      "             nan -6.58780826e+05             nan             nan\n",
      " -6.56529527e+05             nan             nan -6.54736451e+05\n",
      "             nan             nan             nan             nan\n",
      "             nan             nan             nan             nan\n",
      "             nan             nan             nan             nan\n",
      "             nan             nan             nan             nan\n",
      "             nan             nan             nan             nan\n",
      " -6.65396319e+05             nan             nan -6.65396319e+05\n",
      "             nan             nan -6.65396319e+05             nan\n",
      "             nan -6.65396319e+05             nan             nan\n",
      " -6.65396319e+05             nan             nan -6.65396319e+05\n",
      "             nan             nan -8.09452837e+09             nan\n",
      " -6.13814544e+05 -1.48908305e+08             nan -6.36095059e+05\n",
      " -1.15272579e+06             nan -6.33172335e+05 -6.14133020e+07\n",
      "             nan -6.35755221e+05 -1.46036492e+09             nan\n",
      " -6.40570303e+05 -6.90611798e+05             nan -6.71844611e+05\n",
      "             nan             nan             nan             nan\n",
      "             nan             nan             nan             nan\n",
      "             nan             nan             nan             nan\n",
      "             nan             nan             nan             nan\n",
      "             nan             nan -9.58632870e+05             nan\n",
      " -6.15961142e+05 -9.58632870e+05             nan -6.15961142e+05\n",
      " -9.58632870e+05             nan -6.15961142e+05 -9.58632870e+05\n",
      "             nan -6.15961142e+05 -9.58632870e+05             nan\n",
      " -6.15961142e+05 -9.58632870e+05             nan -6.15961142e+05]\n",
      "  category=UserWarning\n",
      "/home/creiann/TimeSeriesExercises/HoltRegressor.py:21: FutureWarning: the 'damped'' keyword is deprecated, use 'damped_trend' instead\n",
      "  damped=self.damped\n",
      "/home/creiann/.local/lib/python3.6/site-packages/statsmodels/tsa/holtwinters/model.py:429: FutureWarning: After 0.13 initialization must be handled at model creation\n",
      "  FutureWarning,\n"
     ]
    },
    {
     "data": {
      "text/plain": [
       "GridSearchCV(cv=3, estimator=HoltWintersTripleExponentialSmoothing(), n_jobs=-1,\n",
       "             param_grid={'damped': [True, False],\n",
       "                         'seasonal': ['add', 'mul', None],\n",
       "                         'seasonal_periods': [3, 5, 6, 7, 10, 12],\n",
       "                         'trend': ['add', 'mul', None]})"
      ]
     },
     "execution_count": 87,
     "metadata": {},
     "output_type": "execute_result"
    }
   ],
   "source": [
    "model = HoltWintersTripleExponentialSmoothing()\n",
    "grid = GridSearchCV(model, param_grid, n_jobs=-1, cv=3)\n",
    "\n",
    "grid.fit(np.arange(len(train)), y_train)"
   ]
  },
  {
   "cell_type": "code",
   "execution_count": 88,
   "id": "30b66a91",
   "metadata": {},
   "outputs": [
    {
     "name": "stdout",
     "output_type": "stream",
     "text": [
      "The Best model Parameters: {'damped': False, 'seasonal': 'add', 'seasonal_periods': 3, 'trend': None}\n"
     ]
    }
   ],
   "source": [
    "#getting the best parameters\n",
    "print(f\"The Best model Parameters: {grid.best_params_}\")"
   ]
  },
  {
   "cell_type": "markdown",
   "id": "788db5f2",
   "metadata": {},
   "source": [
    "## Actual Model Creation"
   ]
  },
  {
   "cell_type": "code",
   "execution_count": 89,
   "id": "37444e1c",
   "metadata": {},
   "outputs": [
    {
     "name": "stdout",
     "output_type": "stream",
     "text": [
      "Model Evaluation Results: \n",
      "Mean Squared Error: 1780.34\n",
      "Mean Absolute Error: 38.61\n",
      "R2 Score: -4.23\n"
     ]
    },
    {
     "name": "stderr",
     "output_type": "stream",
     "text": [
      "/home/creiann/.local/lib/python3.6/site-packages/statsmodels/tsa/base/tsa_model.py:583: ValueWarning: A date index has been provided, but it has no associated frequency information and so will be ignored when e.g. forecasting.\n",
      "  ' ignored when e.g. forecasting.', ValueWarning)\n",
      "/home/creiann/.local/lib/python3.6/site-packages/statsmodels/tsa/base/tsa_model.py:379: ValueWarning: No supported index is available. Prediction results will be given with an integer index beginning at `start`.\n",
      "  ValueWarning)\n"
     ]
    }
   ],
   "source": [
    "model_1 = HoltWintersTripleExponentialSmoothing(seasonal=\"add\", seasonal_periods=3, trend=None, damped=False)\n",
    "model_1.fit(y_train)\n",
    "\n",
    "y_pred = model_1.predict(y_test)\n",
    "\n",
    "modelEvaluation(y_test, y_pred)"
   ]
  },
  {
   "cell_type": "code",
   "execution_count": 93,
   "id": "d880b0b3",
   "metadata": {},
   "outputs": [],
   "source": [
    "#model export\n",
    "with open(\"HoltModel.pkl\", \"wb\") as model:\n",
    "    joblib.dump(model_1, model)"
   ]
  }
 ],
 "metadata": {
  "kernelspec": {
   "display_name": "Python 3",
   "language": "python",
   "name": "python3"
  },
  "language_info": {
   "codemirror_mode": {
    "name": "ipython",
    "version": 3
   },
   "file_extension": ".py",
   "mimetype": "text/x-python",
   "name": "python",
   "nbconvert_exporter": "python",
   "pygments_lexer": "ipython3",
   "version": "3.6.9"
  }
 },
 "nbformat": 4,
 "nbformat_minor": 5
}
